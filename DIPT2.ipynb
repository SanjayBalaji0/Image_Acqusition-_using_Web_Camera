{
 "cells": [
  {
   "cell_type": "code",
   "execution_count": null,
   "id": "ba63f391-7098-4d06-bf08-ec2518e55cc0",
   "metadata": {},
   "outputs": [],
   "source": [
    "\"NAME: Sanjay Balaji S\"\n",
    "\"Reg. No: 212223240149\""
   ]
  },
  {
   "cell_type": "code",
   "execution_count": null,
   "id": "a4536ea7-b3de-411b-a6bc-3a6ed27bfbdd",
   "metadata": {},
   "outputs": [],
   "source": [
    "import cv2\n",
    "videoCaptureObject=cv2.VideoCapture(0)\n",
    "while(True):\n",
    "    ret,frame=videoCaptureObject.read()\n",
    "    cv2.imwrite(\"image.jpg\",frame)\n",
    "    result=False\n",
    "videoCaptureObject.release()\n",
    "cv2.destroyAllWindows()"
   ]
  },
  {
   "cell_type": "code",
   "execution_count": null,
   "id": "89ec20b8-6d6b-4400-bf92-03e9b3d02344",
   "metadata": {},
   "outputs": [],
   "source": [
    "import numpy as np\n",
    "import cv2\n",
    "cap=cv2.VideoCapture(0)\n",
    "while True:\n",
    "    ret,frame=cap.read()\n",
    "    cv2.imshow('image',frame)\n",
    "    if cv2.waitKey(1)==ord('q'):\n",
    "        break\n",
    "cap.release()\n",
    "cv2.destroyAllWindows()"
   ]
  },
  {
   "cell_type": "code",
   "execution_count": null,
   "id": "c5091c87-2ed2-4bf9-bdc9-d767a2b858fc",
   "metadata": {},
   "outputs": [],
   "source": [
    "import numpy as np\n",
    "import cv2\n",
    "cap=cv2.VideoCapture(0)\n",
    "while True:\n",
    "    ret,frame=cap.read()\n",
    "    width=int(cap.get(3))\n",
    "    height=int(cap.get(4))\n",
    "    image=np.zeros(frame.shape,np.uint8)\n",
    "    smaller_frame=cv2.resize(frame,(0,0),fx=0.5,fy=0.5)\n",
    "    image[:height//2, :width//2]=smaller_frame\n",
    "    image[height//2:, :width//2]=smaller_frame\n",
    "    image[:height//2, width//2:]=smaller_frame\n",
    "    image[height//2:, width//2:]=smaller_frame\n",
    "    cv2.imshow('212223240149_sanjaybalaji',image)\n",
    "    if cv2.waitKey(1)==ord('q'):\n",
    "        break\n",
    "cap.release()\n",
    "cv2.destroyAllWindows()"
   ]
  },
  {
   "cell_type": "code",
   "execution_count": null,
   "id": "0b020c6a-79cb-49ec-bb64-1a11216f7a39",
   "metadata": {},
   "outputs": [],
   "source": [
    "import numpy as np\n",
    "import cv2\n",
    "cap=cv2.VideoCapture(0)\n",
    "while True:\n",
    "    ret,frame=cap.read()\n",
    "    width=int(cap.get(3))\n",
    "    height=int(cap.get(4))\n",
    "    image=np.zeros(frame.shape,np.uint8)\n",
    "    smaller_frame=cv2.resize(frame,(0,0),fx=0.5,fy=0.5)\n",
    "    image[:height//2, :width//2]=cv2.rotate(smaller_frame,cv2.ROTATE_180)\n",
    "    image[height//2:, :width//2]=smaller_frame\n",
    "    image[:height//2, width//2:]=cv2.rotate(smaller_frame,cv2.ROTATE_180)\n",
    "    image[height//2:, width//2:]=smaller_frame\n",
    "    cv2.imshow('212223240149_sanjaybalaji',image)\n",
    "    if cv2.waitKey(1)==ord('q'):\n",
    "        break\n",
    "cap.release()\n",
    "cv2.destroyAllWindows()"
   ]
  }
 ],
 "metadata": {
  "kernelspec": {
   "display_name": "Python [conda env:base] *",
   "language": "python",
   "name": "conda-base-py"
  },
  "language_info": {
   "codemirror_mode": {
    "name": "ipython",
    "version": 3
   },
   "file_extension": ".py",
   "mimetype": "text/x-python",
   "name": "python",
   "nbconvert_exporter": "python",
   "pygments_lexer": "ipython3",
   "version": "3.11.3"
  }
 },
 "nbformat": 4,
 "nbformat_minor": 5
}
